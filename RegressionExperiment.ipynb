{
 "cells": [
  {
   "cell_type": "code",
   "execution_count": 1,
   "metadata": {
    "collapsed": true
   },
   "outputs": [],
   "source": [
    "# write your code here\n",
    "import numpy as np\n",
    "import matplotlib.pyplot as plt\n",
    "\n",
    "from sklearn.datasets import load_svmlight_file \n",
    "from sklearn.model_selection import train_test_split\n",
    "from sklearn.metrics import classification_report\n",
    "from collections import defaultdict"
   ]
  },
  {
   "cell_type": "markdown",
   "metadata": {},
   "source": [
    "## load data "
   ]
  },
  {
   "cell_type": "code",
   "execution_count": 2,
   "metadata": {
    "collapsed": true
   },
   "outputs": [],
   "source": [
    "X_train,y_train= load_svmlight_file('a9a.txt',n_features=123)\n",
    "X_train = X_train.toarray()\n",
    "\n",
    "X_vali, y_vali = load_svmlight_file('a9atest.txt',n_features=123)\n",
    "X_vali = X_vali.toarray()\n",
    "\n",
    "n_train, n_feature = X_train.shape\n",
    "n_vali, _ = X_vali.shape \n",
    "\n",
    "\n"
   ]
  },
  {
   "cell_type": "code",
   "execution_count": 3,
   "metadata": {
    "collapsed": true
   },
   "outputs": [],
   "source": [
    "# process data\n",
    "X_train = np.concatenate((X_train,np.ones((n_train,1))),axis =1)\n",
    "y_train = np.reshape(y_train,(n_train,1))\n",
    "\n",
    "X_vali = np.concatenate((X_vali, np.ones((n_vali,1))),axis=1)\n",
    "y_vali = np.reshape(y_vali,(n_vali,1))\n",
    "\n",
    "record_list = defaultdict(list)\n",
    "\n",
    "#parameters\n",
    "epoch = 500\n",
    "lr_rate =0.0001"
   ]
  },
  {
   "cell_type": "code",
   "execution_count": 4,
   "metadata": {
    "collapsed": true
   },
   "outputs": [],
   "source": [
    "class LogisticRegreesionClassfier:\n",
    "    \n",
    "    def fit(self,X, y, X_vali, y_vali,optimizer):\n",
    "        global record_list\n",
    "        W =np.random.random(size=(n_feature+1, 1)) \n",
    "        C = 0.5\n",
    "        batch_size = 5000\n",
    "    \n",
    "        for _ in range(epoch):\n",
    "             # generate random indexex for each epoch            \n",
    "            indexes = np.random.randint(0, n_train, size=batch_size)\n",
    "        \n",
    "            #calcualte train loss\n",
    "            y_hat = 1 / (1 + np.exp(-np.dot(X, W)))\n",
    "            loss_train = -np.average(y * np.log(y_hat) + (1 - y) * np.log(1 - y_hat))\n",
    "            \n",
    "            record_list[optimizer].append(loss_train)\n",
    "            \n",
    "            if optimizer ==0: # SGD \n",
    "                result=1- y[indexes]*np.dot(X[indexes], W )\n",
    "                gW =np.where( result>=0 ,-y[indexes],0)\n",
    "                gradient = W + C*np.dot(X[indexes].transpose(),gW)\n",
    "                W = W +0.0001*(-gradient)\n",
    "                \n",
    "            elif optimizer ==1:#NAG\n",
    "                momentum =0.5\n",
    "                \n",
    "                result=1- y[indexes]*np.dot(X[indexes], W )\n",
    "                gW =np.where( result>=0 ,-y[indexes],0)\n",
    "                gradient = W + C*np.dot(X[indexes].transpose(),gW)\n",
    "                if _ == 0:\n",
    "                    v = np.zeros_like(gradient)\n",
    "                v = momentum* v + lr_rate * gradient\n",
    "                W = W - v\n",
    "                \n",
    "                \n",
    "            elif optimizer ==2: #RMSProp \n",
    "                weight_decay = 0.9\n",
    "                epsilon=1e-8\n",
    "                result=1- y[indexes]*np.dot(X[indexes], W )\n",
    "                gW =np.where( result>=0 ,-y[indexes],0)\n",
    "                gradient = W + C*np.dot(X[indexes].transpose(),gW)\n",
    "                \n",
    "                if _ == 0:\n",
    "                    g =  np.zeros_like(gradient)\n",
    "                    \n",
    "                    \n",
    "                g= weight_decay*g +(1-weight_decay)*(gradient*gradient) \n",
    "                W = W -0.006/np.sqrt(g+epsilon)*gradient\n",
    "                          \n",
    "            \n",
    "            elif optimizer == 3 :#AdaDelta \n",
    "                gamma = 0.9\n",
    "                epsilon = 1e-5\n",
    "                result=1- y[indexes]*np.dot(X[indexes], W )\n",
    "                gW =np.where( result>=0 ,-y[indexes],0)\n",
    "                gradient = W + C*np.dot(X[indexes].transpose(),gW)\n",
    "                \n",
    "                if _ == 0:\n",
    "                    g =  np.zeros_like(gradient)\n",
    "                    delta_theta = np.zeros_like(gradient)\n",
    "                    \n",
    "                g = gamma * g +(1-gamma) * gradient\n",
    "                delta_theta =-(0.0005/np.sqrt(g + epsilon)) *gradient\n",
    "                W = W + delta_theta\n",
    "                \n",
    "                          \n",
    "            elif optimizer == 4: # Adam\n",
    "                epsilon =1e-8\n",
    "                eta = 0.1\n",
    "                beta1 =0.9\n",
    "                beta2 = 0.999\n",
    "                \n",
    "                result=1- y[indexes]*np.dot(X[indexes], W )\n",
    "                gW =np.where( result>=0 ,-y[indexes],0)\n",
    "                gradient = W + C*np.dot(X[indexes].transpose(),gW)\n",
    "                \n",
    "                if _ == 0:\n",
    "                    m =  np.zeros_like(gradient)\n",
    "                    G = np.zeros_like(gradient)\n",
    "                m = beta1 * m +(1 - beta1) *gradient\n",
    "                G = beta2 * G +(1 - beta2) * gradient*gradient\n",
    "                W = W - 0.001 * m/(np.sqrt(G)+epsilon)\n",
    "    \n",
    "    "
   ]
  },
  {
   "cell_type": "code",
   "execution_count": 5,
   "metadata": {},
   "outputs": [
    {
     "name": "stderr",
     "output_type": "stream",
     "text": [
      "/home/vanke/anaconda3/lib/python3.6/site-packages/ipykernel_launcher.py:64: RuntimeWarning: invalid value encountered in sqrt\n",
      "/home/vanke/anaconda3/lib/python3.6/site-packages/ipykernel_launcher.py:56: RuntimeWarning: invalid value encountered in greater_equal\n"
     ]
    }
   ],
   "source": [
    "logreg = LogisticRegreesionClassfier()\n",
    "\n",
    "for n in range(5):\n",
    "    logreg.fit(X_train,y_train,X_vali,y_vali,n)"
   ]
  },
  {
   "cell_type": "code",
   "execution_count": 6,
   "metadata": {},
   "outputs": [
    {
     "data": {
      "image/png": "[encoded data removed]",
      "text/plain": [
       "<matplotlib.figure.Figure at 0x7fd2c99a9860>"
      ]
     },
     "metadata": {},
     "output_type": "display_data"
    }
   ],
   "source": [
    "epoches = np.arange(0,epoch)\n",
    "plt.figure(figsize=(16,7))\n",
    "for n in range(5):\n",
    "    if n ==0:\n",
    "        label = \"SGD\"\n",
    "        plt.plot(epoches,record_list[n],\"-\",color='b', label= label)\n",
    "    elif n ==1:\n",
    "        label = \"NAG\"\n",
    "        plt.plot(epoches,record_list[n],\"-\",color='r', label= label)\n",
    "    elif n ==2:\n",
    "        label = \"RMSprop\"\n",
    "        plt.plot(epoches,record_list[n],\"-\",color='c', label=label )\n",
    "    elif n ==3:\n",
    "        label = \"AdaDelta\"\n",
    "        plt.plot(epoches,record_list[n],\"-\",color='y', label= label)\n",
    "    elif n ==4:\n",
    "        label = \"Adam\"\n",
    "        plt.plot(epoches,record_list[n],\"-\",color='m', label= label)\n",
    "\n",
    "plt.legend(loc='best')\n",
    "plt.show()"
   ]
  },
  {
   "cell_type": "code",
   "execution_count": null,
   "metadata": {
    "collapsed": true
   },
   "outputs": [],
   "source": []
  },
  {
   "cell_type": "code",
   "execution_count": null,
   "metadata": {
    "collapsed": true
   },
   "outputs": [],
   "source": []
  },
  {
   "cell_type": "code",
   "execution_count": null,
   "metadata": {
    "collapsed": true
   },
   "outputs": [],
   "source": []
  },
  {
   "cell_type": "code",
   "execution_count": null,
   "metadata": {
    "collapsed": true
   },
   "outputs": [],
   "source": []
  },
  {
   "cell_type": "code",
   "execution_count": null,
   "metadata": {
    "collapsed": true
   },
   "outputs": [],
   "source": []
  },
  {
   "cell_type": "code",
   "execution_count": null,
   "metadata": {
    "collapsed": true
   },
   "outputs": [],
   "source": []
  },
  {
   "cell_type": "code",
   "execution_count": null,
   "metadata": {
    "collapsed": true
   },
   "outputs": [],
   "source": []
  },
  {
   "cell_type": "code",
   "execution_count": null,
   "metadata": {
    "collapsed": true
   },
   "outputs": [],
   "source": []
  },
  {
   "cell_type": "code",
   "execution_count": null,
   "metadata": {
    "collapsed": true
   },
   "outputs": [],
   "source": []
  },
  {
   "cell_type": "code",
   "execution_count": null,
   "metadata": {
    "collapsed": true
   },
   "outputs": [],
   "source": []
  },
  {
   "cell_type": "code",
   "execution_count": null,
   "metadata": {
    "collapsed": true
   },
   "outputs": [],
   "source": []
  },
  {
   "cell_type": "code",
   "execution_count": null,
   "metadata": {
    "collapsed": true
   },
   "outputs": [],
   "source": []
  },
  {
   "cell_type": "code",
   "execution_count": null,
   "metadata": {
    "collapsed": true
   },
   "outputs": [],
   "source": []
  },
  {
   "cell_type": "code",
   "execution_count": null,
   "metadata": {
    "collapsed": true
   },
   "outputs": [],
   "source": []
  },
  {
   "cell_type": "code",
   "execution_count": null,
   "metadata": {
    "collapsed": true
   },
   "outputs": [],
   "source": []
  },
  {
   "cell_type": "code",
   "execution_count": null,
   "metadata": {
    "collapsed": true
   },
   "outputs": [],
   "source": []
  },
  {
   "cell_type": "code",
   "execution_count": null,
   "metadata": {
    "collapsed": true
   },
   "outputs": [],
   "source": []
  },
  {
   "cell_type": "code",
   "execution_count": null,
   "metadata": {
    "collapsed": true
   },
   "outputs": [],
   "source": []
  },
  {
   "cell_type": "code",
   "execution_count": null,
   "metadata": {
    "collapsed": true
   },
   "outputs": [],
   "source": []
  },
  {
   "cell_type": "code",
   "execution_count": null,
   "metadata": {
    "collapsed": true
   },
   "outputs": [],
   "source": []
  }
 ],
 "metadata": {
  "kernelspec": {
   "display_name": "Python 3",
   "language": "python",
   "name": "python3"
  },
  "language_info": {
   "codemirror_mode": {
    "name": "ipython",
    "version": 3
   },
   "file_extension": ".py",
   "mimetype": "text/x-python",
   "name": "python",
   "nbconvert_exporter": "python",
   "pygments_lexer": "ipython3",
   "version": "3.6.3"
  }
 },
 "nbformat": 4,
 "nbformat_minor": 2
}
